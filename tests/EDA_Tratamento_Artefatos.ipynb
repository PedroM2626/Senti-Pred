{
 "cells": [
  {
   "cell_type": "markdown",
   "metadata": {},
   "source": [
    "# ANALISE EXPLORATORIA E TRATAMENTO DE DADOS\n",
    "## Dataset: Product Sentiment Classification\n",
    "### Autor: Pedro Morato Lahoz"
   ]
  },
  {
   "cell_type": "code",
   "execution_count": null,
   "metadata": {},
   "source": [
    "# Instalacao e Imports\n",
    "!pip install -q kagglehub pandas numpy matplotlib seaborn scikit-learn wordcloud\n",
    "\n",
    "import kagglehub\n",
    "import pandas as pd\n",
    "import numpy as np\n",
    "import matplotlib.pyplot as plt\n",
    "import seaborn as sns\n",
    "from wordcloud import WordCloud\n",
    "import re\n",
    "from collections import Counter\n",
    "import warnings\n",
    "warnings.filterwarnings('ignore')\n",
    "\n",
    "plt.style.use('seaborn-v0_8-darkgrid')\n",
    "sns.set_palette(\"husl\")\n",
    "%matplotlib inline\n",
    "\n",
    "print(\"Bibliotecas importadas!\")"
   ]
  },
  {
   "cell_type": "code",
   "execution_count": null,
   "metadata": {},
   "source": [
    "# Download Dataset\n",
    "print(\"Baixando dataset...\")\n",
    "path = kagglehub.dataset_download(\"akash14/product-sentiment-classification\")\n",
    "print(f\"Dataset em: {path}\")"
   ]
  },
  {
   "cell_type": "code",
   "execution_count": null,
   "metadata": {},
   "source": [
    "# Carregar Dados\n",
    "import os\n",
    "\n",
    "files = os.listdir(path)\n",
    "print(f\"Arquivos: {files}\")\n",
    "\n",
    "csv_file = [f for f in files if f.endswith('.csv')][0]\n",
    "df = pd.read_csv(os.path.join(path, csv_file))\n",
    "\n",
    "print(f\"Dataset carregado!\")\n",
    "print(f\"Shape: {df.shape}\")\n",
    "df.head()"
   ]
  },
  {
   "cell_type": "code",
   "execution_count": null,
   "metadata": {},
   "source": [
    "# Informacoes Basicas\n",
    "print(\"=\" * 60)\n",
    "print(\"INFORMACOES GERAIS DO DATASET\")\n",
    "print(\"=\" * 60)\n",
    "\n",
    "print(f\"\\nDimensoes:\")\n",
    "print(f\"   Linhas: {df.shape[0]:,}\")\n",
    "print(f\"   Colunas: {df.shape[1]}\")\n",
    "\n",
    "print(f\"\\nColunas: {df.columns.tolist()}\")\n",
    "print(f\"\\nTipos de dados:\")\n",
    "print(df.dtypes)\n",
    "\n",
    "df.info()"
   ]
  },
  {
   "cell_type": "code",
   "execution_count": null,
   "metadata": {},
   "source": [
    "# Estatisticas Descritivas\n",
    "df.describe(include='all')"
   ]
  },
  {
   "cell_type": "code",
   "execution_count": null,
   "metadata": {},
   "source": [
    "# Valores Nulos\n",
    "null_counts = df.isnull().sum()\n",
    "null_pct = (null_counts / len(df)) * 100\n",
    "\n",
    "if null_counts.sum() > 0:\n",
    "    plt.figure(figsize=(10, 6))\n",
    "    null_counts[null_counts > 0].plot(kind='bar', color='coral')\n",
    "    plt.title('Valores Nulos por Coluna')\n",
    "    plt.xlabel('Colunas')\n",
    "    plt.ylabel('Quantidade')\n",
    "    plt.xticks(rotation=45, ha='right')\n",
    "    plt.tight_layout()\n",
    "    plt.show()\n",
    "else:\n",
    "    print(\"Sem valores nulos!\")"
   ]
  },
  {
   "cell_type": "code",
   "execution_count": null,
   "metadata": {},
   "source": [
    "# Distribuicao de Sentimentos\n",
    "sentiment_col = [c for c in df.columns if 'sentiment' in c.lower() or 'label' in c.lower()][0]\n",
    "print(f\"Coluna sentimento: {sentiment_col}\")\n",
    "\n",
    "counts = df[sentiment_col].value_counts()\n",
    "print(counts)\n",
    "print((counts / len(df) * 100).round(2))\n",
    "\n",
    "fig, axes = plt.subplots(1, 2, figsize=(15, 5))\n",
    "\n",
    "counts.plot(kind='bar', ax=axes[0], color=['#2ecc71', '#e74c3c', '#f39c12'])\n",
    "axes[0].set_title('Distribuicao de Sentimentos')\n",
    "axes[0].set_xlabel('Sentimento')\n",
    "axes[0].set_ylabel('Quantidade')\n",
    "\n",
    "axes[1].pie(counts, labels=counts.index, autopct='%1.1f%%', \n",
    "            colors=['#2ecc71', '#e74c3c', '#f39c12'])\n",
    "axes[1].set_title('Proporcao de Sentimentos')\n",
    "\n",
    "plt.tight_layout()\n",
    "plt.show()"
   ]
  },
  {
   "cell_type": "code",
   "execution_count": null,
   "metadata": {},
   "source": [
    "# Analise do Texto\n",
    "text_col = [c for c in df.columns if any(x in c.lower() for x in ['text', 'review', 'comment'])][0]\n",
    "print(f\"Coluna texto: {text_col}\")\n",
    "\n",
    "df['text_length'] = df[text_col].astype(str).apply(len)\n",
    "df['word_count'] = df[text_col].astype(str).apply(lambda x: len(x.split()))\n",
    "\n",
    "print(df[['text_length', 'word_count']].describe())"
   ]
  },
  {
   "cell_type": "code",
   "execution_count": null,
   "metadata": {},
   "source": [
    "# Tamanho por Sentimento\n",
    "fig, axes = plt.subplots(1, 2, figsize=(15, 6))\n",
    "\n",
    "df.boxplot(column='text_length', by=sentiment_col, ax=axes[0])\n",
    "axes[0].set_title('Tamanho (caracteres) por Sentimento')\n",
    "\n",
    "df.boxplot(column='word_count', by=sentiment_col, ax=axes[1])\n",
    "axes[1].set_title('Numero de Palavras por Sentimento')\n",
    "\n",
    "plt.suptitle('')\n",
    "plt.tight_layout()\n",
    "plt.show()"
   ]
  },
  {
   "cell_type": "code",
   "execution_count": null,
   "metadata": {},
   "source": [
    "# Palavras Mais Comuns\n",
    "def get_top_words(texts, n=20):\n",
    "    all_text = ' '.join(texts.astype(str))\n",
    "    words = re.findall(r'\\b[a-z]+\\b', all_text.lower())\n",
    "    return Counter(words).most_common(n)\n",
    "\n",
    "top_words = get_top_words(df[text_col], 30)\n",
    "print(\"Top 15 palavras:\")\n",
    "for word, count in top_words[:15]:\n",
    "    print(f\"   {word:15s}: {count:5d}\")\n",
    "\n",
    "words, counts = zip(*top_words[:20])\n",
    "plt.figure(figsize=(12, 6))\n",
    "plt.barh(words, counts, color='skyblue')\n",
    "plt.xlabel('Frequencia')\n",
    "plt.title('Top 20 Palavras')\n",
    "plt.gca().invert_yaxis()\n",
    "plt.tight_layout()\n",
    "plt.show()"
   ]
  },
  {
   "cell_type": "code",
   "execution_count": null,
   "metadata": {},
   "source": [
    "# Word Cloud\n",
    "all_text = ' '.join(df[text_col].astype(str))\n",
    "\n",
    "wc = WordCloud(width=1600, height=800, background_color='white', \n",
    "               colormap='viridis', max_words=100).generate(all_text)\n",
    "\n",
    "plt.figure(figsize=(16, 8))\n",
    "plt.imshow(wc, interpolation='bilinear')\n",
    "plt.axis('off')\n",
    "plt.title('Word Cloud Geral')\n",
    "plt.tight_layout()\n",
    "plt.show()"
   ]
  },
  {
   "cell_type": "code",
   "execution_count": null,
   "metadata": {},
   "source": [
    "# Tratamento de Dados\n",
    "df_clean = df.copy()\n",
    "initial_size = len(df_clean)\n",
    "\n",
    "# Remover nulos\n",
    "df_clean = df_clean.dropna(subset=[text_col, sentiment_col])\n",
    "print(f\"Removidos {initial_size - len(df_clean)} nulos\")\n",
    "\n",
    "# Remover duplicatas\n",
    "before = len(df_clean)\n",
    "df_clean = df_clean.drop_duplicates(subset=[text_col])\n",
    "print(f\"Removidas {before - len(df_clean)} duplicatas\")\n",
    "\n",
    "# Remover textos curtos\n",
    "before = len(df_clean)\n",
    "df_clean = df_clean[df_clean['word_count'] >= 3]\n",
    "print(f\"Removidos {before - len(df_clean)} textos curtos\")\n",
    "\n",
    "# Limpar texto\n",
    "def clean_text(text):\n",
    "    text = str(text).lower()\n",
    "    text = re.sub(r'http\\S+', '', text)\n",
    "    text = re.sub(r'[^a-z\\s]', '', text)\n",
    "    text = ' '.join(text.split())\n",
    "    return text\n",
    "\n",
    "df_clean['text_clean'] = df_clean[text_col].apply(clean_text)\n",
    "\n",
    "print(f\"\\nTamanho final: {len(df_clean):,} linhas\")\n",
    "print(f\"Taxa retencao: {len(df_clean)/initial_size*100:.2f}%\")"
   ]
  },
  {
   "cell_type": "code",
   "execution_count": null,
   "metadata": {},
   "source": [
    "# Salvar Dataset Tratado\n",
    "df_final = df_clean[[text_col, 'text_clean', sentiment_col]].copy()\n",
    "df_final.columns = ['text_original', 'text_clean', 'sentiment']\n",
    "\n",
    "df_final.to_csv('dataset_tratado.csv', index=False)\n",
    "print(f\"Dataset salvo: dataset_tratado.csv\")\n",
    "print(f\"Linhas: {len(df_final):,}\")\n",
    "\n",
    "df_final.head(10)"
   ]
  }
 ],
 "metadata": {
  "kernelspec": {
   "display_name": "Python 3",
   "language": "python",
   "name": "python3"
  },
  "language_info": {
   "codemirror_mode": {
    "name": "ipython",
    "version": 3
   },
   "file_extension": ".py",
   "mimetype": "text/x-python",
   "name": "python",
   "nbconvert_exporter": "python",
   "pygments_lexer": "ipython3",
   "version": "3.8.0"
  }
 },
 "nbformat": 4,
 "nbformat_minor": 4
}