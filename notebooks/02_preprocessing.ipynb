{
 "cells": [
  {
   "cell_type": "markdown",
   "metadata": {},
   "source": [
    "# Pré-processamento de Dados - Senti-Pred\n",
    "\n",
    "Este notebook contém as etapas de pré-processamento dos dados para o projeto Senti-Pred."
   ]
  },
  {
   "cell_type": "code",
   "execution_count": null,
   "metadata": {},
   "source": [
    "# Importações necessárias\n",
    "import pandas as pd\n",
    "import numpy as np\n",
    "import re\n",
    "import nltk\n",
    "from nltk.corpus import stopwords\n",
    "from nltk.stem import WordNetLemmatizer\n",
    "from nltk.tokenize import word_tokenize\n",
    "import matplotlib.pyplot as plt\n",
    "import seaborn as sns\n",
    "import os\n",
    "import sys\n",
    "\n",
    "# Download dos recursos do NLTK\n",
    "nltk.download('punkt')\n",
    "nltk.download('stopwords')\n",
    "nltk.download('wordnet')"
   ]
  },
  {
   "cell_type": "code",
   "execution_count": null,
   "metadata": {},
   "source": [
    "# Carregar os dados\n",
    "data_path = '../data/raw/test.csv'\n",
    "df = pd.read_csv(data_path)\n",
    "\n",
    "# Exibir as primeiras linhas\n",
    "df.head()"
   ]
  },
  {
   "cell_type": "code",
   "execution_count": null,
   "metadata": {},
   "source": [
    "# Funções de pré-processamento\n",
    "def clean_text(text):\n",
    "    if isinstance(text, str):\n",
    "        # Converter para minúsculas\n",
    "        text = text.lower()\n",
    "        # Remover URLs\n",
    "        text = re.sub(r'http\\S+|www\\S+|https\\S+', '', text, flags=re.MULTILINE)\n",
    "        # Remover menções e hashtags\n",
    "        text = re.sub(r'@\\w+|#\\w+', '', text)\n",
    "        # Remover pontuação e caracteres especiais\n",
    "        text = re.sub(r'[^\\w\\s]', '', text)\n",
    "        # Remover números\n",
    "        text = re.sub(r'\\d+', '', text)\n",
    "        # Remover espaços extras\n",
    "        text = re.sub(r'\\s+', ' ', text).strip()\n",
    "        return text\n",
    "    return ''\n",
    "\n",
    "def remove_stopwords(text):\n",
    "    if isinstance(text, str):\n",
    "        stop_words = set(stopwords.words('portuguese'))\n",
    "        word_tokens = word_tokenize(text)\n",
    "        filtered_text = [word for word in word_tokens if word not in stop_words]\n",
    "        return ' '.join(filtered_text)\n",
    "    return ''\n",
    "\n",
    "def lemmatize_text(text):\n",
    "    if isinstance(text, str):\n",
    "        lemmatizer = WordNetLemmatizer()\n",
    "        word_tokens = word_tokenize(text)\n",
    "        lemmatized_text = [lemmatizer.lemmatize(word) for word in word_tokens]\n",
    "        return ' '.join(lemmatized_text)\n",
    "    return ''"
   ]
  },
  {
   "cell_type": "code",
   "execution_count": null,
   "metadata": {},
   "source": [
    "# Aplicar pré-processamento\n",
    "if 'text' in df.columns:\n",
    "    # Criar cópia do dataframe original\n",
    "    df_processed = df.copy()\n",
    "    \n",
    "    # Aplicar limpeza de texto\n",
    "    df_processed['text_clean'] = df_processed['text'].apply(clean_text)\n",
    "    \n",
    "    # Remover stopwords\n",
    "    df_processed['text_no_stopwords'] = df_processed['text_clean'].apply(remove_stopwords)\n",
    "    \n",
    "    # Lematização\n",
    "    df_processed['text_lemmatized'] = df_processed['text_no_stopwords'].apply(lemmatize_text)\n",
    "    \n",
    "    # Exibir exemplos de textos processados\n",
    "    sample_df = pd.DataFrame({\n",
    "        'Original': df_processed['text'].iloc[:5],\n",
    "        'Limpo': df_processed['text_clean'].iloc[:5],\n",
    "        'Sem Stopwords': df_processed['text_no_stopwords'].iloc[:5],\n",
    "        'Lematizado': df_processed['text_lemmatized'].iloc[:5]\n",
    "    })\n",
    "    \n",
    "    sample_df"
   ]
  },
  {
   "cell_type": "code",
   "execution_count": null,
   "metadata": {},
   "source": [
    "# Salvar dados processados\n",
    "processed_path = '../data/processed/processed_data.csv'\n",
    "os.makedirs(os.path.dirname(processed_path), exist_ok=True)\n",
    "df_processed.to_csv(processed_path, index=False)\n",
    "print(f\"Dados processados salvos em: {processed_path}\")"
   ]
  },
  {
   "cell_type": "markdown",
   "metadata": {},
   "source": [
    "## Análise dos Dados Processados\n",
    "\n",
    "Vamos analisar algumas estatísticas dos dados após o pré-processamento."
   ]
  },
  {
   "cell_type": "code",
   "execution_count": null,
   "metadata": {},
   "source": [
    "if 'text' in df.columns and 'text_lemmatized' in df_processed.columns:\n",
    "    # Comprimento dos textos antes e depois do processamento\n",
    "    df_processed['original_length'] = df_processed['text'].apply(lambda x: len(x.split()) if isinstance(x, str) else 0)\n",
    "    df_processed['processed_length'] = df_processed['text_lemmatized'].apply(lambda x: len(x.split()) if isinstance(x, str) else 0)\n",
    "    \n",
    "    # Visualizar a redução no comprimento dos textos\n",
    "    plt.figure(figsize=(12, 6))\n",
    "    \n",
    "    plt.subplot(1, 2, 1)\n",
    "    sns.histplot(df_processed['original_length'], bins=30, kde=True, color='blue')\n",
    "    plt.title('Distribuição do Comprimento Original')\n",
    "    plt.xlabel('Número de Palavras')\n",
    "    plt.ylabel('Frequência')\n",
    "    \n",
    "    plt.subplot(1, 2, 2)\n",
    "    sns.histplot(df_processed['processed_length'], bins=30, kde=True, color='green')\n",
    "    plt.title('Distribuição do Comprimento Após Processamento')\n",
    "    plt.xlabel('Número de Palavras')\n",
    "    \n",
    "    plt.tight_layout()\n",
    "    plt.show()\n",
    "    \n",
    "    # Estatísticas da redução\n",
    "    reduction = ((df_processed['original_length'] - df_processed['processed_length']) / df_processed['original_length']) * 100\n",
    "    print(f\"Redução média no comprimento do texto: {reduction.mean():.2f}%\")"
   ]
  },
  {
   "cell_type": "markdown",
   "metadata": {},
   "source": [
    "## Conclusões do Pré-processamento\n",
    "\n",
    "- Resumo das transformações aplicadas\n",
    "- Impacto do pré-processamento nos dados\n",
    "- Próximos passos para a modelagem"
   ]
  }
 ],
 "metadata": {
  "kernelspec": {
   "display_name": "Python 3",
   "language": "python",
   "name": "python3"
  },
  "language_info": {
   "codemirror_mode": {
    "name": "ipython",
    "version": 3
   },
   "file_extension": ".py",
   "mimetype": "text/x-python",
   "name": "python",
   "nbconvert_exporter": "python",
   "pygments_lexer": "ipython3",
   "version": "3.8.10"
  }
 },
 "nbformat": 4,
 "nbformat_minor": 4
}