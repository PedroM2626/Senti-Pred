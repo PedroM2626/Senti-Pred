{
 "cells": [
  {
   "cell_type": "markdown",
   "metadata": {},
   "source": [
    "# Avaliação do Modelo - Senti-Pred\n",
    "\n",
    "Este notebook contém a avaliação detalhada do modelo de análise de sentimentos para o projeto Senti-Pred."
   ]
  },
  {
   "cell_type": "code",
   "execution_count": null,
   "metadata": {},
   "source": [
    "# Importações necessárias\n",
    "import pandas as pd\n",
    "import numpy as np\n",
    "import matplotlib.pyplot as plt\n",
    "import seaborn as sns\n",
    "from sklearn.metrics import classification_report, confusion_matrix, accuracy_score, roc_curve, auc, precision_recall_curve\n",
    "import joblib\n",
    "import os\n",
    "import sys\n",
    "\n",
    "# Configurações de visualização\n",
    "plt.style.use('ggplot')\n",
    "sns.set(style='whitegrid')\n",
    "%matplotlib inline"
   ]
  },
  {
   "cell_type": "code",
   "execution_count": null,
   "metadata": {},
   "source": [
    "# Carregar o modelo treinado\n",
    "model_path = '../src/models/sentiment_model.pkl'\n",
    "model = joblib.load(model_path)\n",
    "print(f\"Modelo carregado: {type(model).__name__}\")"
   ]
  },
  {
   "cell_type": "code",
   "execution_count": null,
   "metadata": {},
   "source": [
    "# Carregar os dados de teste\n",
    "processed_path = '../data/processed/processed_data.csv'\n",
    "df = pd.read_csv(processed_path)\n",
    "\n",
    "# Dividir em conjuntos de treino e teste (usando a mesma semente para consistência)\n",
    "from sklearn.model_selection import train_test_split\n",
    "\n",
    "if 'text_lemmatized' in df.columns and 'sentiment' in df.columns:\n",
    "    X = df['text_lemmatized']\n",
    "    y = df['sentiment']\n",
    "    \n",
    "    # Usar a mesma divisão que foi usada no treinamento\n",
    "    X_train, X_test, y_train, y_test = train_test_split(X, y, test_size=0.2, random_state=42)\n",
    "    \n",
    "    print(f\"Tamanho do conjunto de teste: {X_test.shape[0]}\")"
   ]
  },
  {
   "cell_type": "markdown",
   "metadata": {},
   "source": [
    "## Avaliação Detalhada do Modelo"
   ]
  },
  {
   "cell_type": "code",
   "execution_count": null,
   "metadata": {},
   "source": [
    "# Fazer previsões no conjunto de teste\n",
    "y_pred = model.predict(X_test)\n",
    "\n",
    "# Calcular probabilidades (se o modelo suportar)\n",
    "try:\n",
    "    y_prob = model.predict_proba(X_test)\n",
    "    has_probabilities = True\n",
    "except:\n",
    "    has_probabilities = False\n",
    "    print(\"O modelo não suporta previsão de probabilidades.\")"
   ]
  },
  {
   "cell_type": "code",
   "execution_count": null,
   "metadata": {},
   "source": [
    "# Relatório de classificação detalhado\n",
    "print(\"Relatório de Classificação:\")\n",
    "print(classification_report(y_test, y_pred))\n",
    "\n",
    "# Acurácia\n",
    "accuracy = accuracy_score(y_test, y_pred)\n",
    "print(f\"Acurácia: {accuracy:.4f}\")"
   ]
  },
  {
   "cell_type": "code",
   "execution_count": null,
   "metadata": {},
   "source": [
    "# Matriz de confusão\n",
    "plt.figure(figsize=(10, 8))\n",
    "cm = confusion_matrix(y_test, y_pred)\n",
    "sns.heatmap(cm, annot=True, fmt='d', cmap='Blues', xticklabels=model.classes_, yticklabels=model.classes_)\n",
    "plt.title('Matriz de Confusão')\n",
    "plt.xlabel('Predito')\n",
    "plt.ylabel('Real')\n",
    "plt.tight_layout()\n",
    "plt.show()"
   ]
  },
  {
   "cell_type": "code",
   "execution_count": null,
   "metadata": {},
   "source": [
    "# Curvas ROC e Precision-Recall (para problemas binários)\n",
    "if has_probabilities and len(model.classes_) == 2:\n",
    "    # Curva ROC\n",
    "    plt.figure(figsize=(12, 5))\n",
    "    \n",
    "    plt.subplot(1, 2, 1)\n",
    "    fpr, tpr, _ = roc_curve(y_test, y_prob[:, 1])\n",
    "    roc_auc = auc(fpr, tpr)\n",
    "    plt.plot(fpr, tpr, color='darkorange', lw=2, label=f'ROC curve (area = {roc_auc:.2f})')\n",
    "    plt.plot([0, 1], [0, 1], color='navy', lw=2, linestyle='--')\n",
    "    plt.xlim([0.0, 1.0])\n",
    "    plt.ylim([0.0, 1.05])\n",
    "    plt.xlabel('Taxa de Falsos Positivos')\n",
    "    plt.ylabel('Taxa de Verdadeiros Positivos')\n",
    "    plt.title('Curva ROC')\n",
    "    plt.legend(loc=\"lower right\")\n",
    "    \n",
    "    # Curva Precision-Recall\n",
    "    plt.subplot(1, 2, 2)\n",
    "    precision, recall, _ = precision_recall_curve(y_test, y_prob[:, 1])\n",
    "    plt.plot(recall, precision, color='green', lw=2)\n",
    "    plt.xlabel('Recall')\n",
    "    plt.ylabel('Precision')\n",
    "    plt.title('Curva Precision-Recall')\n",
    "    plt.ylim([0.0, 1.05])\n",
    "    \n",
    "    plt.tight_layout()\n",
    "    plt.show()"
   ]
  },
  {
   "cell_type": "markdown",
   "metadata": {},
   "source": [
    "## Análise de Erros"
   ]
  },
  {
   "cell_type": "code",
   "execution_count": null,
   "metadata": {},
   "source": [
    "# Identificar exemplos classificados incorretamente\n",
    "incorrect_indices = np.where(y_pred != y_test)[0]\n",
    "incorrect_df = pd.DataFrame({\n",
    "    'Texto': X_test.iloc[incorrect_indices],\n",
    "    'Sentimento Real': y_test.iloc[incorrect_indices],\n",
    "    'Sentimento Predito': y_pred[incorrect_indices]\n",
    "})\n",
    "\n",
    "# Exibir alguns exemplos de classificações incorretas\n",
    "print(f\"Total de classificações incorretas: {len(incorrect_indices)}\")\n",
    "if len(incorrect_indices) > 0:\n",
    "    display(incorrect_df.head(10))"
   ]
  },
  {
   "cell_type": "markdown",
   "metadata": {},
   "source": [
    "## Avaliação em Diferentes Segmentos de Dados"
   ]
  },
  {
   "cell_type": "code",
   "execution_count": null,
   "metadata": {},
   "source": [
    "# Avaliar o desempenho por comprimento do texto\n",
    "if 'text_lemmatized' in df.columns:\n",
    "    # Calcular o comprimento do texto\n",
    "    text_lengths = X_test.apply(lambda x: len(x.split()))\n",
    "    \n",
    "    # Definir categorias de comprimento\n",
    "    bins = [0, 5, 10, 20, float('inf')]\n",
    "    labels = ['Muito Curto', 'Curto', 'Médio', 'Longo']\n",
    "    length_categories = pd.cut(text_lengths, bins=bins, labels=labels)\n",
    "    \n",
    "    # Calcular acurácia por categoria de comprimento\n",
    "    accuracy_by_length = {}\n",
    "    for category in labels:\n",
    "        indices = length_categories == category\n",
    "        if sum(indices) > 0:  # Verificar se há exemplos nesta categoria\n",
    "            acc = accuracy_score(y_test[indices], y_pred[indices])\n",
    "            accuracy_by_length[category] = acc\n",
    "    \n",
    "    # Visualizar\n",
    "    plt.figure(figsize=(10, 6))\n",
    "    plt.bar(accuracy_by_length.keys(), accuracy_by_length.values(), color='purple')\n",
    "    plt.title('Acurácia por Comprimento de Texto')\n",
    "    plt.xlabel('Categoria de Comprimento')\n",
    "    plt.ylabel('Acurácia')\n",
    "    plt.ylim(0, 1)\n",
    "    for i, v in enumerate(accuracy_by_length.values()):\n",
    "        plt.text(i, v + 0.01, f\"{v:.4f}\", ha='center')\n",
    "    plt.tight_layout()\n",
    "    plt.show()"
   ]
  },
  {
   "cell_type": "markdown",
   "metadata": {},
   "source": [
    "## Conclusões da Avaliação\n",
    "\n",
    "- Resumo do desempenho do modelo\n",
    "- Análise dos pontos fortes e fracos\n",
    "- Recomendações para melhorias futuras"
   ]
  }
 ],
 "metadata": {
  "kernelspec": {
   "display_name": "Python 3",
   "language": "python",
   "name": "python3"
  },
  "language_info": {
   "codemirror_mode": {
    "name": "ipython",
    "version": 3
   },
   "file_extension": ".py",
   "mimetype": "text/x-python",
   "name": "python",
   "nbconvert_exporter": "python",
   "pygments_lexer": "ipython3",
   "version": "3.8.10"
  }
 },
 "nbformat": 4,
 "nbformat_minor": 4
}