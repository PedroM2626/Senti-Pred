{
 "cells": [
  {
   "cell_type": "markdown",
   "metadata": {},
   "source": [
    "# Análise Exploratória de Dados (EDA) - Senti-Pred\n",
    "\n",
    "Este notebook contém a análise exploratória dos dados para o projeto Senti-Pred, focado em análise de sentimentos."
   ]
  },
  {
   "cell_type": "code",
   "execution_count": null,
   "metadata": {},
   "source": [
    "# Importações necessárias\n",
    "import pandas as pd\n",
    "import numpy as np\n",
    "import matplotlib.pyplot as plt\n",
    "import seaborn as sns\n",
    "import os\n",
    "import sys\n",
    "\n",
    "# Configurações de visualização\n",
    "plt.style.use('ggplot')\n",
    "sns.set(style='whitegrid')\n",
    "%matplotlib inline"
   ]
  },
  {
   "cell_type": "code",
   "execution_count": null,
   "metadata": {},
   "source": [
    "# Carregar os dados\n",
    "data_path = '../data/raw/test.csv'\n",
    "df = pd.read_csv(data_path)\n",
    "\n",
    "# Exibir as primeiras linhas\n",
    "df.head()"
   ]
  },
  {
   "cell_type": "code",
   "execution_count": null,
   "metadata": {},
   "source": [
    "# Informações básicas sobre o dataset\n",
    "print(\"Formato do dataset:\", df.shape)\n",
    "print(\"\\nInformações do dataset:\")\n",
    "df.info()\n",
    "print(\"\\nEstatísticas descritivas:\")\n",
    "df.describe(include='all')"
   ]
  },
  {
   "cell_type": "code",
   "execution_count": null,
   "metadata": {},
   "source": [
    "# Verificar valores ausentes\n",
    "missing_values = df.isnull().sum()\n",
    "missing_percentage = (missing_values / len(df)) * 100\n",
    "\n",
    "missing_df = pd.DataFrame({\n",
    "    'Valores ausentes': missing_values,\n",
    "    'Porcentagem (%)': missing_percentage\n",
    "})\n",
    "\n",
    "missing_df[missing_df['Valores ausentes'] > 0]"
   ]
  },
  {
   "cell_type": "code",
   "execution_count": null,
   "metadata": {},
   "source": [
    "# Análise de distribuição de sentimentos (supondo que exista uma coluna 'sentiment')\n",
    "if 'sentiment' in df.columns:\n",
    "    plt.figure(figsize=(10, 6))\n",
    "    sns.countplot(x='sentiment', data=df)\n",
    "    plt.title('Distribuição de Sentimentos')\n",
    "    plt.xlabel('Sentimento')\n",
    "    plt.ylabel('Contagem')\n",
    "    plt.xticks(rotation=45)\n",
    "    plt.tight_layout()\n",
    "    plt.show()"
   ]
  },
  {
   "cell_type": "code",
   "execution_count": null,
   "metadata": {},
   "source": [
    "# Análise de comprimento de texto (supondo que exista uma coluna 'text')\n",
    "if 'text' in df.columns:\n",
    "    df['text_length'] = df['text'].apply(len)\n",
    "    \n",
    "    plt.figure(figsize=(12, 6))\n",
    "    sns.histplot(df['text_length'], bins=50, kde=True)\n",
    "    plt.title('Distribuição do Comprimento de Texto')\n",
    "    plt.xlabel('Comprimento do Texto')\n",
    "    plt.ylabel('Frequência')\n",
    "    plt.tight_layout()\n",
    "    plt.show()\n",
    "    \n",
    "    if 'sentiment' in df.columns:\n",
    "        plt.figure(figsize=(12, 6))\n",
    "        sns.boxplot(x='sentiment', y='text_length', data=df)\n",
    "        plt.title('Comprimento de Texto por Sentimento')\n",
    "        plt.xlabel('Sentimento')\n",
    "        plt.ylabel('Comprimento do Texto')\n",
    "        plt.tight_layout()\n",
    "        plt.show()"
   ]
  },
  {
   "cell_type": "markdown",
   "metadata": {},
   "source": [
    "## Conclusões da Análise Exploratória\n",
    "\n",
    "- Resumo das principais descobertas\n",
    "- Insights para o pré-processamento\n",
    "- Direcionamentos para a modelagem"
   ]
  }
 ],
 "metadata": {
  "kernelspec": {
   "display_name": "Python 3",
   "language": "python",
   "name": "python3"
  },
  "language_info": {
   "codemirror_mode": {
    "name": "ipython",
    "version": 3
   },
   "file_extension": ".py",
   "mimetype": "text/x-python",
   "name": "python",
   "nbconvert_exporter": "python",
   "pygments_lexer": "ipython3",
   "version": "3.8.10"
  }
 },
 "nbformat": 4,
 "nbformat_minor": 4
}